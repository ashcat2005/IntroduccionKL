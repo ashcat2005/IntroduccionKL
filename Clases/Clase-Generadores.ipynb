{
 "metadata": {
  "name": "",
  "signature": "sha256:464753e71249d23b7d9694b977af117d5d62258113b19004525325d77db5ea46"
 },
 "nbformat": 3,
 "nbformat_minor": 0,
 "worksheets": [
  {
   "cells": [
    {
     "cell_type": "code",
     "collapsed": false,
     "input": [
      "import random\n",
      "\n",
      "def baloto():    \n",
      "    # \"Produce\" 5 n\u00fameros entre 1 y 45    \n",
      "    for i in xrange(6):        \n",
      "        yield random.randint(1, 45)    \n",
      "    # \"Produce el \u00faltimo n\u00famero\"\n",
      "    \n",
      "    yield random.randint(1,45)\n",
      "    \n",
      "for balota in baloto(): \n",
      "        print \"El numero producido es: %d\" % balota"
     ],
     "language": "python",
     "metadata": {},
     "outputs": [
      {
       "output_type": "stream",
       "stream": "stdout",
       "text": [
        "El numero producido es: 39\n",
        "El numero producido es: 31\n",
        "El numero producido es: 27\n",
        "El numero producido es: 43\n",
        "El numero producido es: 42\n",
        "El numero producido es: 9\n",
        "El numero producido es: 5\n"
       ]
      }
     ],
     "prompt_number": 7
    }
   ],
   "metadata": {}
  }
 ]
}