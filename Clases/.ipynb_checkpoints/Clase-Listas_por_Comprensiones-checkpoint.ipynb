{
 "metadata": {
  "name": "",
  "signature": "sha256:9a9045686abec5815e2b71cb87b694670745f1a9d73bd94760122c1866857f8b"
 },
 "nbformat": 3,
 "nbformat_minor": 0,
 "worksheets": [
  {
   "cells": [
    {
     "cell_type": "code",
     "collapsed": false,
     "input": [
      "frase = \"El curso de Python es incomprensible... no como los gases\"\n",
      "palabras = frase.split()\n",
      "largo_palabra = []\n",
      "for palabra in palabras:    \n",
      "    if palabra != \"Python\":        \n",
      "        largo_palabra.append(len(palabra))"
     ],
     "language": "python",
     "metadata": {},
     "outputs": [],
     "prompt_number": 2
    },
    {
     "cell_type": "code",
     "collapsed": false,
     "input": [
      "largo_palabra"
     ],
     "language": "python",
     "metadata": {},
     "outputs": [
      {
       "metadata": {},
       "output_type": "pyout",
       "prompt_number": 3,
       "text": [
        "[2, 5, 2, 2, 17, 2, 4, 3, 5]"
       ]
      }
     ],
     "prompt_number": 3
    },
    {
     "cell_type": "markdown",
     "metadata": {},
     "source": [
      "Una lista de comprensi\u00f3n:\n",
      "Consiste en una lista que inicia con una expresi\u00f3n dentro de par\u00e9ntesis rodeandos seguida de la declaraci\u00f3n `for` y luego cero o m\u00e1s declaraciones `for` o `if`. El resultado es la nueva lista producida al evaluar la expresi\u00f3n en el contexto de los `for` o `if` que le siguen."
     ]
    },
    {
     "cell_type": "code",
     "collapsed": false,
     "input": [
      "lista_palabra2 = [len(palabra) for palabra in palabras if palabra != \"Python\"]"
     ],
     "language": "python",
     "metadata": {},
     "outputs": [],
     "prompt_number": 4
    },
    {
     "cell_type": "code",
     "collapsed": false,
     "input": [
      "lista_palabra2"
     ],
     "language": "python",
     "metadata": {},
     "outputs": [
      {
       "metadata": {},
       "output_type": "pyout",
       "prompt_number": 5,
       "text": [
        "[2, 5, 2, 2, 17, 2, 4, 3, 5]"
       ]
      }
     ],
     "prompt_number": 5
    },
    {
     "cell_type": "code",
     "collapsed": false,
     "input": [
      "a= [(x, y) for x in [1.6,6.7] for y in [8.3,8.2,4] if x != y]"
     ],
     "language": "python",
     "metadata": {},
     "outputs": [],
     "prompt_number": 12
    },
    {
     "cell_type": "code",
     "collapsed": false,
     "input": [
      "a"
     ],
     "language": "python",
     "metadata": {},
     "outputs": [
      {
       "metadata": {},
       "output_type": "pyout",
       "prompt_number": 13,
       "text": [
        "[(1.6, 8.3), (1.6, 8.2), (1.6, 4), (6.7, 8.3), (6.7, 8.2), (6.7, 4)]"
       ]
      }
     ],
     "prompt_number": 13
    }
   ],
   "metadata": {}
  }
 ]
}