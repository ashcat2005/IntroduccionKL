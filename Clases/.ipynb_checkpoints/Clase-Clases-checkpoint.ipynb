{
 "metadata": {
  "name": "",
  "signature": "sha256:4d83ee57251731b0fd2273580917a3a41713a0776be59a4af52f61963902755d"
 },
 "nbformat": 3,
 "nbformat_minor": 0,
 "worksheets": [
  {
   "cells": [
    {
     "cell_type": "heading",
     "level": 1,
     "metadata": {},
     "source": [
      "Clases y Objetos"
     ]
    },
    {
     "cell_type": "heading",
     "level": 5,
     "metadata": {},
     "source": [
      "Vamos a crear nuestra primera clase: "
     ]
    },
    {
     "cell_type": "code",
     "collapsed": false,
     "input": [
      "class MiClase: \n",
      "    'Este es el comentario de lo que hace la clase'\n",
      "    'Curso Konrad Lorenz'\n",
      "    variable = \"Zeta\"    \n",
      "    def funcion():        \n",
      "        print \"Un mensaje de mi funcion\"\n",
      "    'Quiza lo hayamos hecho bien'"
     ],
     "language": "python",
     "metadata": {},
     "outputs": [],
     "prompt_number": 1
    },
    {
     "cell_type": "markdown",
     "metadata": {},
     "source": [
      "La estructura luce limpia. Es una clase que se llama `MiClase`, tiene un string como documentaci\u00f3n que se accede as\u00ed:"
     ]
    },
    {
     "cell_type": "code",
     "collapsed": false,
     "input": [
      "MiClase.__doc__"
     ],
     "language": "python",
     "metadata": {},
     "outputs": [
      {
       "metadata": {},
       "output_type": "pyout",
       "prompt_number": 2,
       "text": [
        "'Este es el comentario de lo que hace la clase'"
       ]
      }
     ],
     "prompt_number": 2
    },
    {
     "cell_type": "heading",
     "level": 5,
     "metadata": {},
     "source": [
      "Nota: Es importante resaltar que el resto de los `strings` no fueron accedidos, solamente el primero. "
     ]
    },
    {
     "cell_type": "markdown",
     "metadata": {},
     "source": [
      "Dentro de la clase `MiClase` hay un variable, que llamamos `variable`, que contiene la palabra 'Zeta' y una funci\u00f3n llamada `funcion` que simplemente imprime un mensaje. "
     ]
    },
    {
     "cell_type": "heading",
     "level": 6,
     "metadata": {},
     "source": [
      "La clase crear\u00e1 objetos que tendr\u00e1n una \"variable de clase\" y un \"m\u00e9todo\". A continuaci\u00f3n creamos un objeto, que llamaremos miobjeto1, de clase MiClase. "
     ]
    },
    {
     "cell_type": "code",
     "collapsed": false,
     "input": [
      "miobjeto1 = MiClase()"
     ],
     "language": "python",
     "metadata": {},
     "outputs": [],
     "prompt_number": 3
    },
    {
     "cell_type": "markdown",
     "metadata": {},
     "source": [
      "Podemos accedar a la variable de clase as\u00ed:"
     ]
    },
    {
     "cell_type": "code",
     "collapsed": false,
     "input": [
      "miobjeto1.variable"
     ],
     "language": "python",
     "metadata": {},
     "outputs": [
      {
       "metadata": {},
       "output_type": "pyout",
       "prompt_number": 4,
       "text": [
        "'Zeta'"
       ]
      }
     ],
     "prompt_number": 4
    },
    {
     "cell_type": "heading",
     "level": 6,
     "metadata": {},
     "source": [
      "\u00bfC\u00f3mo se accede a la funci\u00f3n? Quiz\u00e1 como se aprendi\u00f3 anteriormente:"
     ]
    },
    {
     "cell_type": "code",
     "collapsed": false,
     "input": [
      "miobjeto1.funcion()"
     ],
     "language": "python",
     "metadata": {},
     "outputs": [
      {
       "ename": "TypeError",
       "evalue": "funcion() takes no arguments (1 given)",
       "output_type": "pyerr",
       "traceback": [
        "\u001b[0;31m---------------------------------------------------------------------------\u001b[0m\n\u001b[0;31mTypeError\u001b[0m                                 Traceback (most recent call last)",
        "\u001b[0;32m<ipython-input-5-eced7b2c4899>\u001b[0m in \u001b[0;36m<module>\u001b[0;34m()\u001b[0m\n\u001b[0;32m----> 1\u001b[0;31m \u001b[0mmiobjeto1\u001b[0m\u001b[0;34m.\u001b[0m\u001b[0mfuncion\u001b[0m\u001b[0;34m(\u001b[0m\u001b[0;34m)\u001b[0m\u001b[0;34m\u001b[0m\u001b[0m\n\u001b[0m",
        "\u001b[0;31mTypeError\u001b[0m: funcion() takes no arguments (1 given)"
       ]
      }
     ],
     "prompt_number": 5
    },
    {
     "cell_type": "heading",
     "level": 2,
     "metadata": {},
     "source": [
      "\u00a1Es un error!"
     ]
    },
    {
     "cell_type": "markdown",
     "metadata": {},
     "source": [
      "Pero si ahora agregamos `self` como par\u00e1metro de la funci\u00f3n:"
     ]
    },
    {
     "cell_type": "code",
     "collapsed": false,
     "input": [
      "class MiClase2: \n",
      "    'Este es el comentario de lo que hace la clase'\n",
      "    variable = \"Zeta\"    \n",
      "    def funcion(self):        \n",
      "        print \"Un mensaje de mi funcion\""
     ],
     "language": "python",
     "metadata": {},
     "outputs": [],
     "prompt_number": 6
    },
    {
     "cell_type": "code",
     "collapsed": false,
     "input": [
      "miobjeto2 = MiClase2()"
     ],
     "language": "python",
     "metadata": {},
     "outputs": [],
     "prompt_number": 7
    },
    {
     "cell_type": "code",
     "collapsed": false,
     "input": [
      "miobjeto2.funcion()"
     ],
     "language": "python",
     "metadata": {},
     "outputs": [
      {
       "output_type": "stream",
       "stream": "stdout",
       "text": [
        "Un mensaje de mi funcion\n"
       ]
      }
     ],
     "prompt_number": 8
    },
    {
     "cell_type": "heading",
     "level": 2,
     "metadata": {},
     "source": [
      "\u00a1Funciona!"
     ]
    },
    {
     "cell_type": "markdown",
     "metadata": {},
     "source": [
      "\u00bfQu\u00e9 pas\u00f3 Python? \u00bfNo que eras tan de alto nivel?\n",
      "\n",
      "Lo que sucede es que dentro de las funciones se declar\u00e1n con la excepci\u00f3n de que el primer argumento de cada m\u00e9todo es self. Python simpre a\u00f1ade el argumento self a la lista de argumentos de la funci\u00f3n; no es necesario incluirlo cuando se llama el los m\u00e9todos.\n",
      "\n",
      "El argumento self se refiere a la variable dependiente u objeto. Sin embargo, self no es una palabra clave reservada en Python, es s\u00f3lo una convenci\u00f3n fuerte.\n",
      "\n",
      "\u00bfPor qu\u00e9 tenemos que escribir self? \u00bfPor qu\u00e9 no est\u00e1 establecido autom\u00e1ticamente como en Java?\n",
      "\n",
      "Hace algunos a\u00f1os (2008) una persona present\u00f3 una PEP (Python Enhancement Proposal, sugerencia de mejora) en la que sugiri\u00f3 quitar la asignaci\u00f3n expl\u00edcita de la palabra clave. Sin embargo Guido Van Rossum (el fabricante de python) escribi\u00f3 una entrada de blog en el que dicho por qu\u00e9 auto expl\u00edcita tiene que quedarse. http://neopythonic.blogspot.com/2008/10/why-explicit-self-has-to-stay.html. Introducir self proporciona mayor equivalencia te\u00f3rica entre distintas formas de llamar un m\u00e9todo. "
     ]
    },
    {
     "cell_type": "heading",
     "level": 4,
     "metadata": {},
     "source": [
      "Sigamos. Vamos a definir la clase estudiantes. "
     ]
    },
    {
     "cell_type": "code",
     "collapsed": false,
     "input": [
      "class Estudiante:\n",
      "   'Es una clase comun de estudiantes, no lo digo por ofender...'\n",
      "   idEstu = 0\n",
      "\n",
      "   def __init__(self, nombre, codigo, carrera):\n",
      "      self.nombre = nombre\n",
      "      self.codigo = codigo\n",
      "      self.carrera = carrera\n",
      "      Estudiante.idEstu += 1\n",
      "   \n",
      "   def mostrar_Ids(self):\n",
      "     print \"Numero total de estudiantes %d\" % Estudiante.idEstu\n",
      "\n",
      "   def mostrarEstudiante(self):\n",
      "      print \"Nombre : \", self.nombre,  \", codigo: \", self.codigo, \", carrera: \", self.carrera"
     ],
     "language": "python",
     "metadata": {},
     "outputs": [],
     "prompt_number": 10
    },
    {
     "cell_type": "markdown",
     "metadata": {},
     "source": [
      "La variable idEstu es una variable de clase, cuyo valor es compartido entre todas las instancias de una clase. Puede ser accedida como Estudiante.idEstu desde dentro de la clase o fuera de la clase.\n",
      "\n",
      "El primer m\u00e9todo `__ init__ ()` es un m\u00e9todo especial, que se llama constructor de la clase o el m\u00e9todo de inicializaci\u00f3n que Python llama cuando se crea una nueva instancia de esta clase."
     ]
    },
    {
     "cell_type": "heading",
     "level": 5,
     "metadata": {},
     "source": [
      "Creemos objetos de esa clase:"
     ]
    },
    {
     "cell_type": "code",
     "collapsed": false,
     "input": [
      "est1 = Estudiante(\"Miguelito\", 1234, \"Minas y Puentes\")\n",
      "est2 = Estudiante(\"Dago\", 5542, \"Entretenimiento y Diversi\u00f3n\")"
     ],
     "language": "python",
     "metadata": {},
     "outputs": [],
     "prompt_number": 11
    },
    {
     "cell_type": "heading",
     "level": 5,
     "metadata": {},
     "source": [
      "Ahora podemos acceder a los agtributos:"
     ]
    },
    {
     "cell_type": "code",
     "collapsed": false,
     "input": [
      "est1.mostrarEstudiante()\n",
      "est2.mostrarEstudiante()\n",
      "print \"N\u00famero total de estudiantes: %d\" % Estudiante.idEstu"
     ],
     "language": "python",
     "metadata": {},
     "outputs": [
      {
       "output_type": "stream",
       "stream": "stdout",
       "text": [
        "Nombre :  Miguelito , codigo:  1234 , carrera:  Minas y Puentes\n",
        "Nombre :  Dago , codigo:  5542 , carrera:  Entretenimiento y Diversi\u00f3n\n",
        "N\u00famero total de estudiantes: 2\n"
       ]
      }
     ],
     "prompt_number": 14
    },
    {
     "cell_type": "heading",
     "level": 5,
     "metadata": {},
     "source": [
      "Es posible modificar, agregar o quiatr atributos de la clase en cualquier momento"
     ]
    },
    {
     "cell_type": "code",
     "collapsed": false,
     "input": [
      "est1.edad = 25 "
     ],
     "language": "python",
     "metadata": {},
     "outputs": [],
     "prompt_number": 25
    },
    {
     "cell_type": "code",
     "collapsed": false,
     "input": [
      "print est1.edad"
     ],
     "language": "python",
     "metadata": {},
     "outputs": [
      {
       "output_type": "stream",
       "stream": "stdout",
       "text": [
        "25\n"
       ]
      }
     ],
     "prompt_number": 19
    },
    {
     "cell_type": "code",
     "collapsed": false,
     "input": [
      "est1.mostrarEstudiante()\n",
      "est2.mostrarEstudiante()"
     ],
     "language": "python",
     "metadata": {},
     "outputs": [
      {
       "output_type": "stream",
       "stream": "stdout",
       "text": [
        "Nombre :  Miguelito , codigo:  1234 , carrera:  Minas y Puentes\n",
        "Nombre :  Dago , codigo:  5542 , carrera:  Entretenimiento y Diversi\u00f3n\n"
       ]
      }
     ],
     "prompt_number": 20
    },
    {
     "cell_type": "markdown",
     "metadata": {},
     "source": [
      "El atributo edad existe para est1, pero no es mostrado por el m\u00e9todo `mostrarEstudiante()` porque no est\u00e1 en su definici\u00f3. "
     ]
    },
    {
     "cell_type": "heading",
     "level": 5,
     "metadata": {},
     "source": [
      "Podemos cambiar el valor as\u00ed:"
     ]
    },
    {
     "cell_type": "code",
     "collapsed": false,
     "input": [
      "est1.edad = 27  "
     ],
     "language": "python",
     "metadata": {},
     "outputs": [],
     "prompt_number": 22
    },
    {
     "cell_type": "markdown",
     "metadata": {},
     "source": [
      "Podemos eliminar el atributo tambi\u00e9n"
     ]
    },
    {
     "cell_type": "code",
     "collapsed": false,
     "input": [
      "del est1.edad"
     ],
     "language": "python",
     "metadata": {},
     "outputs": [],
     "prompt_number": 23
    },
    {
     "cell_type": "heading",
     "level": 5,
     "metadata": {},
     "source": [
      "Las siguientes funciones est\u00e1n por defecto y son muy \u00fatiles:"
     ]
    },
    {
     "cell_type": "code",
     "collapsed": false,
     "input": [
      "print hasattr(est1, 'edad')    # El resultado es True si el atributo 'edad' existe\n",
      "getattr(est1, 'edad')    # Retorna el valor del atributo 'edad'\n",
      "setattr(est1, 'edad', 29) # Deja el atributo 'edad' en 29\n",
      "delattr(est1, 'edad')    # Elimina el atributo 'edad'"
     ],
     "language": "python",
     "metadata": {},
     "outputs": [
      {
       "output_type": "stream",
       "stream": "stdout",
       "text": [
        "False\n"
       ]
      },
      {
       "ename": "AttributeError",
       "evalue": "Estudiante instance has no attribute 'edad'",
       "output_type": "pyerr",
       "traceback": [
        "\u001b[0;31m---------------------------------------------------------------------------\u001b[0m\n\u001b[0;31mAttributeError\u001b[0m                            Traceback (most recent call last)",
        "\u001b[0;32m<ipython-input-27-dd7304c16f4d>\u001b[0m in \u001b[0;36m<module>\u001b[0;34m()\u001b[0m\n\u001b[1;32m      1\u001b[0m \u001b[0;32mprint\u001b[0m \u001b[0mhasattr\u001b[0m\u001b[0;34m(\u001b[0m\u001b[0mest1\u001b[0m\u001b[0;34m,\u001b[0m \u001b[0;34m'edad'\u001b[0m\u001b[0;34m)\u001b[0m    \u001b[0;31m# El resultado es True si el atributo 'edad' existe\u001b[0m\u001b[0;34m\u001b[0m\u001b[0m\n\u001b[0;32m----> 2\u001b[0;31m \u001b[0mgetattr\u001b[0m\u001b[0;34m(\u001b[0m\u001b[0mest1\u001b[0m\u001b[0;34m,\u001b[0m \u001b[0;34m'edad'\u001b[0m\u001b[0;34m)\u001b[0m    \u001b[0;31m# Retorna el valor del atributo 'edad'\u001b[0m\u001b[0;34m\u001b[0m\u001b[0m\n\u001b[0m\u001b[1;32m      3\u001b[0m \u001b[0msetattr\u001b[0m\u001b[0;34m(\u001b[0m\u001b[0mest1\u001b[0m\u001b[0;34m,\u001b[0m \u001b[0;34m'edad'\u001b[0m\u001b[0;34m,\u001b[0m \u001b[0;36m29\u001b[0m\u001b[0;34m)\u001b[0m \u001b[0;31m# Deja el atributo 'edad' en 29\u001b[0m\u001b[0;34m\u001b[0m\u001b[0m\n\u001b[1;32m      4\u001b[0m \u001b[0mdelattr\u001b[0m\u001b[0;34m(\u001b[0m\u001b[0mest1\u001b[0m\u001b[0;34m,\u001b[0m \u001b[0;34m'edad'\u001b[0m\u001b[0;34m)\u001b[0m    \u001b[0;31m# Elimina el atributo 'edad'\u001b[0m\u001b[0;34m\u001b[0m\u001b[0m\n",
        "\u001b[0;31mAttributeError\u001b[0m: Estudiante instance has no attribute 'edad'"
       ]
      }
     ],
     "prompt_number": 27
    },
    {
     "cell_type": "markdown",
     "metadata": {},
     "source": [
      "Toda clase de Python tiene incorporados por defecto los siguientes atributos que se pueden acceder mediante el operador punto, como cualquier otro atributo:"
     ]
    },
    {
     "cell_type": "markdown",
     "metadata": {},
     "source": [
      "`__dict__` : Proporciona un diccionario que contiene los nombres de las clases.\n",
      "\n",
      "`__doc__` : Proporciona la documentaci\u00f3n, si no hay aparece 'None'.\n",
      "\n",
      "`__name__`: Nombre de la Clase.\n",
      "\n",
      "`__module__`: Proporciona el m\u00f3dilo en el cual la clase est\u00e1 definida. El atributo es '__main__' en el modo interactivo. \n",
      "\n",
      "`__bases__`: Proporciona una tupla posiblemente vac\u00eda que contiene las clases de base, en el orden de aparici\u00f3n en la lista de clases base."
     ]
    },
    {
     "cell_type": "code",
     "collapsed": false,
     "input": [
      "print \"Estudiante.__doc__:\", Estudiante.__doc__\n",
      "print \"Estudiante.__name__:\", Estudiante.__name__\n",
      "print \"Estudiante.__module__:\", Estudiante.__module__\n",
      "print \"Estudiante.__bases__:\", Estudiante.__bases__\n",
      "print \"Estudiante.__dict__:\", Estudiante.__dict__"
     ],
     "language": "python",
     "metadata": {},
     "outputs": []
    }
   ],
   "metadata": {}
  }
 ]
}