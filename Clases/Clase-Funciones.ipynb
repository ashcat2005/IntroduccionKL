{
 "metadata": {
  "name": "",
  "signature": "sha256:c39348287704a96d637a7f34bd03afd3a9b749ead06a429c9a833e0da9a6fddf"
 },
 "nbformat": 3,
 "nbformat_minor": 0,
 "worksheets": [
  {
   "cells": [
    {
     "cell_type": "heading",
     "level": 1,
     "metadata": {},
     "source": [
      "Funciones"
     ]
    },
    {
     "cell_type": "code",
     "collapsed": false,
     "input": [
      "def mi_funcion():    \n",
      "    print \"Hola Mundo (desde una funci\u00f3n)!\""
     ],
     "language": "python",
     "metadata": {},
     "outputs": [],
     "prompt_number": 1
    },
    {
     "cell_type": "code",
     "collapsed": false,
     "input": [
      "mi_funcion()"
     ],
     "language": "python",
     "metadata": {},
     "outputs": [
      {
       "output_type": "stream",
       "stream": "stdout",
       "text": [
        "Hola Mundo (desde una funci\u00f3n)!\n"
       ]
      }
     ],
     "prompt_number": 2
    },
    {
     "cell_type": "markdown",
     "metadata": {},
     "source": [
      "Ahora definimos una funci\u00f3n con argumentos"
     ]
    },
    {
     "cell_type": "code",
     "collapsed": false,
     "input": [
      "def mi_funcion_con_args(nombre, mensaje):    \n",
      "    print \"Hola, %s , desde la funcion!, quiero decirte que %s\"%(nombre, mensaje)"
     ],
     "language": "python",
     "metadata": {},
     "outputs": [],
     "prompt_number": 7
    },
    {
     "cell_type": "code",
     "collapsed": false,
     "input": [
      "mi_funcion_con_args(\"Villani\", \"eres un Crack\")"
     ],
     "language": "python",
     "metadata": {},
     "outputs": [
      {
       "output_type": "stream",
       "stream": "stdout",
       "text": [
        "Hola, Villani , desde la funcion!, quiero decirte que eres un Crack\n"
       ]
      }
     ],
     "prompt_number": 8
    },
    {
     "cell_type": "heading",
     "level": 5,
     "metadata": {},
     "source": [
      "Las funciones pueden retornar un valor n\u00famerico tambi\u00e9n:"
     ]
    },
    {
     "cell_type": "code",
     "collapsed": false,
     "input": [
      "def suma_tres_numeros(a, b,c):    \n",
      "    return a + b + c"
     ],
     "language": "python",
     "metadata": {},
     "outputs": [],
     "prompt_number": 9
    },
    {
     "cell_type": "heading",
     "level": 5,
     "metadata": {},
     "source": [
      "Utilicemos la funci\u00f3n:"
     ]
    },
    {
     "cell_type": "code",
     "collapsed": false,
     "input": [
      "suma_tres_numeros(2,3,1)"
     ],
     "language": "python",
     "metadata": {},
     "outputs": [
      {
       "metadata": {},
       "output_type": "pyout",
       "prompt_number": 10,
       "text": [
        "6"
       ]
      }
     ],
     "prompt_number": 10
    },
    {
     "cell_type": "heading",
     "level": 5,
     "metadata": {},
     "source": [
      "Utilicemos la funci\u00f3n mezclando tipos de variables:"
     ]
    },
    {
     "cell_type": "code",
     "collapsed": false,
     "input": [
      "suma_tres_numeros(2,3.2,1)"
     ],
     "language": "python",
     "metadata": {},
     "outputs": [
      {
       "metadata": {},
       "output_type": "pyout",
       "prompt_number": 11,
       "text": [
        "6.2"
       ]
      }
     ],
     "prompt_number": 11
    },
    {
     "cell_type": "code",
     "collapsed": false,
     "input": [
      "suma_tres_numeros(\"Hola\",\" \",\"Lola\")"
     ],
     "language": "python",
     "metadata": {},
     "outputs": [
      {
       "metadata": {},
       "output_type": "pyout",
       "prompt_number": 12,
       "text": [
        "'Hola Lola'"
       ]
      }
     ],
     "prompt_number": 12
    },
    {
     "cell_type": "code",
     "collapsed": false,
     "input": [],
     "language": "python",
     "metadata": {},
     "outputs": []
    }
   ],
   "metadata": {}
  }
 ]
}