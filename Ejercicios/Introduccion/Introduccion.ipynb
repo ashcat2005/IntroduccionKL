{
 "metadata": {
  "name": "",
  "signature": "sha256:33013529afa63287954273c93f861f6531fd0bad1b7fa756de2e9e01ec8dca70"
 },
 "nbformat": 3,
 "nbformat_minor": 0,
 "worksheets": [
  {
   "cells": [
    {
     "cell_type": "heading",
     "level": 1,
     "metadata": {},
     "source": [
      "Introducci\u00f3n"
     ]
    },
    {
     "cell_type": "heading",
     "level": 3,
     "metadata": {},
     "source": [
      "En los ejercicios que se formula una pregunta abierta, la soluci\u00f3n la debe proporcionar al final de la operaci\u00f3n formulada como un comentario."
     ]
    },
    {
     "cell_type": "heading",
     "level": 5,
     "metadata": {},
     "source": [
      "1. Use la funci\u00f3n `help()` para concer qu\u00e9 modulos contienen la palabra 'zeta' en el resumen de la ayuda:"
     ]
    },
    {
     "cell_type": "code",
     "collapsed": false,
     "input": [],
     "language": "python",
     "metadata": {},
     "outputs": []
    },
    {
     "cell_type": "heading",
     "level": 5,
     "metadata": {},
     "source": [
      "2. Utilice Python como calculadora: "
     ]
    },
    {
     "cell_type": "heading",
     "level": 6,
     "metadata": {},
     "source": [
      "2.1 El tiempo de c\u00e1lculo total con el m\u00e9todo de Newton convergi\u00f3 en 26.7 segundos, \u00bfcu\u00e1nto tiempo es en a\u00f1os?"
     ]
    },
    {
     "cell_type": "code",
     "collapsed": false,
     "input": [],
     "language": "python",
     "metadata": {},
     "outputs": []
    },
    {
     "cell_type": "heading",
     "level": 6,
     "metadata": {},
     "source": [
      "2.2 Calcule el n\u00famero \u00e1ureo $\\phi=\\frac{1+\\sqrt{5}}{2}$, considere $\\sqrt{5}\\approx2.23$:"
     ]
    },
    {
     "cell_type": "code",
     "collapsed": false,
     "input": [],
     "language": "python",
     "metadata": {},
     "outputs": []
    },
    {
     "cell_type": "heading",
     "level": 5,
     "metadata": {},
     "source": [
      "3. Defina dos variables, `base` y `altura`, con alg\u00fan valor. C\u00e1lcule e imprima el \u00e1rea del tri\u00e1ngulo:"
     ]
    },
    {
     "cell_type": "code",
     "collapsed": false,
     "input": [],
     "language": "python",
     "metadata": {},
     "outputs": []
    },
    {
     "cell_type": "heading",
     "level": 5,
     "metadata": {},
     "source": [
      "4. Redefina la variable `altura` como string y realice nuevamente el c\u00e1lculo del \u00e1rea. \u00bfQu\u00e9 sucede? \u00bfPor qu\u00e9?"
     ]
    },
    {
     "cell_type": "code",
     "collapsed": false,
     "input": [],
     "language": "python",
     "metadata": {},
     "outputs": []
    },
    {
     "cell_type": "heading",
     "level": 5,
     "metadata": {},
     "source": [
      "5. Defina una lista y una tupla con cuatro n\u00fameros en las entradas. Actualice la segunda entrada de ambas con la palabra 'Konrad'. \u00bfQu\u00e9 sucede?"
     ]
    },
    {
     "cell_type": "code",
     "collapsed": false,
     "input": [],
     "language": "python",
     "metadata": {},
     "outputs": []
    },
    {
     "cell_type": "heading",
     "level": 5,
     "metadata": {},
     "source": [
      "6. Cree un diccionario con entradas de diferentes tipos."
     ]
    },
    {
     "cell_type": "code",
     "collapsed": false,
     "input": [],
     "language": "python",
     "metadata": {},
     "outputs": []
    },
    {
     "cell_type": "heading",
     "level": 5,
     "metadata": {},
     "source": [
      "7. Calcule los primeros 50 n\u00fameros de Fibonacci. Recuerde que los n\u00fameros de Fibonacci $(F)$ se definen as\u00ed: $F_{1}=1$,   $F_{2}=1$ y $F_{n}=F_{n-1}+F_{n-2}$ para $n\\geq3$.\n",
      " "
     ]
    },
    {
     "cell_type": "code",
     "collapsed": false,
     "input": [],
     "language": "python",
     "metadata": {},
     "outputs": []
    },
    {
     "cell_type": "heading",
     "level": 5,
     "metadata": {},
     "source": [
      "7.1 Calcule la raz\u00f3n entre $F_{n}$ y $F_{n-1}$, i.e. $\\frac{F_{n}}{F_{n-1}}$, para todos los Fibonacci hallados. "
     ]
    },
    {
     "cell_type": "code",
     "collapsed": false,
     "input": [],
     "language": "python",
     "metadata": {},
     "outputs": []
    },
    {
     "cell_type": "heading",
     "level": 5,
     "metadata": {},
     "source": [
      "8. Abra el archivo `/Introduccion/textoideas.txt`."
     ]
    },
    {
     "cell_type": "code",
     "collapsed": false,
     "input": [],
     "language": "python",
     "metadata": {},
     "outputs": []
    },
    {
     "cell_type": "heading",
     "level": 5,
     "metadata": {},
     "source": [
      "8.5 Cree un diccionario (en otro archivo llamado `diccionario.txt`) con las palabras del texto, no deben haber palabras repetidas y los signos de puntuaci\u00f3n no cuentan. Quiz\u00e1 deba tener especial cuidado con las tildes. "
     ]
    },
    {
     "cell_type": "code",
     "collapsed": false,
     "input": [],
     "language": "python",
     "metadata": {},
     "outputs": [],
     "prompt_number": 0
    },
    {
     "cell_type": "heading",
     "level": 6,
     "metadata": {},
     "source": [
      "8.2 Cuente cu\u00e1ntas vocales hay en total en el texto:"
     ]
    },
    {
     "cell_type": "code",
     "collapsed": false,
     "input": [],
     "language": "python",
     "metadata": {},
     "outputs": []
    }
   ],
   "metadata": {}
  }
 ]
}